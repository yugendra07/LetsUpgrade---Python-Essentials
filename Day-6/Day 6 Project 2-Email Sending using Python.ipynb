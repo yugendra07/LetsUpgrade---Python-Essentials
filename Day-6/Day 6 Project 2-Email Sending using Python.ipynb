{
 "cells": [
  {
   "cell_type": "markdown",
   "metadata": {},
   "source": [
    "# Project 2 - Email Sending using Python\n",
    "## Name - Yugendra Walavalkar"
   ]
  },
  {
   "cell_type": "code",
   "execution_count": 14,
   "metadata": {},
   "outputs": [],
   "source": [
    "import emails\n",
    "\n",
    "def mail_to(email):\n",
    "    \n",
    "    my_text = '''<p><span style=\"color: rgb(251, 160, 38);\"><strong><em><span style=\"background-color: rgb(0, 0, 0);\n",
    "                                        \">Hello LetsUpgrade!</span></em></strong></span> This is <span style=\"color: rgb(184, 49, 47);\n",
    "                                        \">Gottimukkula Rahul&nbsp;\n",
    "                                        </span></p>\n",
    "                                        <p><span style=\"color: null;\">I&apos;\n",
    "                                        ve registered for Python Essentials course.\n",
    "                                        Its really a great learning experience.</span></p><span style=\"color: null;\">I&apos;\n",
    "                                        ve also registered for Data Science Essentials last month. \n",
    "                                        I also received my certificate.&nbsp;\n",
    "                                        </span><br>\n",
    "                                        Its really a great platform especially for beginners! Thank you Letsupgrade!<p>Regards,</p>\n",
    "                                        <p><span style=\"color: rgb(0, 0, 0);\n",
    "                                        \"><span style=\"background-color: rgb(247, 218, 100);\"><em><strong>\n",
    "                                        Gottimukkula Rahul</strong></em></span></span></p>'''\n",
    "    \n",
    "    my_message = emails.html(html = my_text,\n",
    "                            subject = 'Hey LetsUpgarde',\n",
    "                            mail_from = ('Rahul Gottimukkula','rahul8@letsupgrade.com'))\n",
    "    mail_send = my_message.send(to = email,\n",
    "                               smtp={'host': 'smtp.gmail.com', \n",
    "                                     'timeout': 5,\n",
    "                                    'port':587,\n",
    "                                    'user':'rahul8@letsupgrade.com',\n",
    "                                    'password':'rahul123LetsUpgrade',\n",
    "                                    'tls':True})\n",
    "    return mail_send.status_code"
   ]
  },
  {
   "cell_type": "code",
   "execution_count": 17,
   "metadata": {},
   "outputs": [
    {
     "data": {
      "text/plain": [
       "250"
      ]
     },
     "execution_count": 17,
     "metadata": {},
     "output_type": "execute_result"
    }
   ],
   "source": [
    "mail_to('bakeb56172@cctyoo.com')"
   ]
  }
 ],
 "metadata": {
  "kernelspec": {
   "display_name": "Python 3",
   "language": "python",
   "name": "python3"
  },
  "language_info": {
   "codemirror_mode": {
    "name": "ipython",
    "version": 3
   },
   "file_extension": ".py",
   "mimetype": "text/x-python",
   "name": "python",
   "nbconvert_exporter": "python",
   "pygments_lexer": "ipython3",
   "version": "3.7.6"
  },
  "widgets": {
   "application/vnd.jupyter.widget-state+json": {
    "state": {},
    "version_major": 2,
    "version_minor": 0
   }
  }
 },
 "nbformat": 4,
 "nbformat_minor": 2
}
